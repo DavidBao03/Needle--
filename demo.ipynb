{
 "cells": [
  {
   "cell_type": "code",
   "execution_count": 2,
   "id": "e039556e",
   "metadata": {},
   "outputs": [
    {
     "name": "stdout",
     "output_type": "stream",
     "text": [
      "rm -rf build python/needle/backend_ndarray/ndarray_backend*.so\n",
      "-- The C compiler identification is GNU 11.4.0\n",
      "-- The CXX compiler identification is GNU 11.4.0\n",
      "-- Detecting C compiler ABI info\n",
      "-- Detecting C compiler ABI info - done\n",
      "-- Check for working C compiler: /usr/bin/cc - skipped\n",
      "-- Detecting C compile features\n",
      "-- Detecting C compile features - done\n",
      "-- Detecting CXX compiler ABI info\n",
      "-- Detecting CXX compiler ABI info - done\n",
      "-- Check for working CXX compiler: /usr/bin/c++ - skipped\n",
      "-- Detecting CXX compile features\n",
      "-- Detecting CXX compile features - done\n",
      "-- Found Python: /root/miniconda3/bin/python3.12 (found suitable exact version \"3.12.2\") found components: Development Interpreter Development.Module Development.Embed\n",
      "-- Performing Test HAS_FLTO\n",
      "-- Performing Test HAS_FLTO - Success\n",
      "-- Found pybind11: /root/miniconda3/lib/python3.12/site-packages/pybind11/include (found version \"2.13.6\")\n",
      "-- Performing Test CMAKE_HAVE_LIBC_PTHREAD\n",
      "-- Performing Test CMAKE_HAVE_LIBC_PTHREAD - Success\n",
      "-- Found Threads: TRUE\n",
      "-- Found CUDA: /usr/local/cuda (found version \"12.1\")\n",
      "-- Found cuda, building cuda backend\n",
      "Sun Nov 24 14:42:14 2024       \n",
      "+-----------------------------------------------------------------------------------------+\n",
      "| NVIDIA-SMI 550.78                 Driver Version: 550.78         CUDA Version: 12.4     |\n",
      "|-----------------------------------------+------------------------+----------------------+\n",
      "| GPU  Name                 Persistence-M | Bus-Id          Disp.A | Volatile Uncorr. ECC |\n",
      "| Fan  Temp   Perf          Pwr:Usage/Cap |           Memory-Usage | GPU-Util  Compute M. |\n",
      "|                                         |                        |               MIG M. |\n",
      "|=========================================+========================+======================|\n",
      "|   0  NVIDIA GeForce RTX 4090 D      On  |   00000000:A9:00.0 Off |                  Off |\n",
      "| 30%   33C    P8             20W /  425W |       1MiB /  24564MiB |      0%      Default |\n",
      "|                                         |                        |                  N/A |\n",
      "+-----------------------------------------+------------------------+----------------------+\n",
      "                                                                                         \n",
      "+-----------------------------------------------------------------------------------------+\n",
      "| Processes:                                                                              |\n",
      "|  GPU   GI   CI        PID   Type   Process name                              GPU Memory |\n",
      "|        ID   ID                                                               Usage      |\n",
      "|=========================================================================================|\n",
      "|  No running processes found                                                             |\n",
      "+-----------------------------------------------------------------------------------------+\n",
      "-- Autodetected CUDA architecture(s):  8.9\n",
      "-- Configuring done (1.8s)\n",
      "-- Generating done (0.0s)\n",
      "-- Build files have been written to: /root/NEEDLE++/build\n",
      "make[1]: Entering directory '/root/NEEDLE++/build'\n",
      "make[2]: Entering directory '/root/NEEDLE++/build'\n",
      "make[3]: Entering directory '/root/NEEDLE++/build'\n",
      "make[3]: Leaving directory '/root/NEEDLE++/build'\n",
      "make[3]: Entering directory '/root/NEEDLE++/build'\n",
      "[ 25%] \u001b[32mBuilding CXX object CMakeFiles/ndarray_backend_cpu.dir/src/ndarray_backend_cpu.cc.o\u001b[0m\n",
      "[ 50%] \u001b[32m\u001b[1mLinking CXX shared module /root/NEEDLE++/python/needle/backend_ndarray/ndarray_backend_cpu.cpython-312-x86_64-linux-gnu.so\u001b[0m\n",
      "make[3]: Leaving directory '/root/NEEDLE++/build'\n",
      "[ 50%] Built target ndarray_backend_cpu\n",
      "make[3]: Entering directory '/root/NEEDLE++/build'\n",
      "[ 75%] \u001b[34m\u001b[1mBuilding NVCC (Device) object CMakeFiles/ndarray_backend_cuda.dir/src/ndarray_backend_cuda_generated_ndarray_backend_cuda.cu.o\u001b[0m\n",
      "make[3]: Leaving directory '/root/NEEDLE++/build'\n",
      "make[3]: Entering directory '/root/NEEDLE++/build'\n",
      "[100%] \u001b[32m\u001b[1mLinking CXX shared module /root/NEEDLE++/python/needle/backend_ndarray/ndarray_backend_cuda.cpython-312-x86_64-linux-gnu.so\u001b[0m\n",
      "make[3]: Leaving directory '/root/NEEDLE++/build'\n",
      "[100%] Built target ndarray_backend_cuda\n",
      "make[2]: Leaving directory '/root/NEEDLE++/build'\n",
      "make[1]: Leaving directory '/root/NEEDLE++/build'\n"
     ]
    }
   ],
   "source": [
    "!make clean\n",
    "!make"
   ]
  },
  {
   "cell_type": "code",
   "execution_count": 1,
   "id": "1984a591",
   "metadata": {},
   "outputs": [
    {
     "name": "stdout",
     "output_type": "stream",
     "text": [
      "env: PYTHONPATH=./python\n",
      "env: NEEDLE_BACKEND=nd\n"
     ]
    }
   ],
   "source": [
    "%set_env PYTHONPATH ./python\n",
    "%set_env NEEDLE_BACKEND nd"
   ]
  },
  {
   "cell_type": "code",
   "execution_count": 2,
   "id": "5f08fe9b-0457-4458-a397-31088709c58e",
   "metadata": {},
   "outputs": [],
   "source": [
    "import sys\n",
    "sys.path.append('./python')\n",
    "sys.path.append('./apps'  )"
   ]
  },
  {
   "cell_type": "code",
   "execution_count": 3,
   "id": "bfd102d0-97a7-4b8d-82f7-5dce0a57a91d",
   "metadata": {},
   "outputs": [
    {
     "name": "stdout",
     "output_type": "stream",
     "text": [
      "Using needle backend\n"
     ]
    }
   ],
   "source": [
    "import needle as ndl\n",
    "from needle import nn"
   ]
  },
  {
   "cell_type": "code",
   "execution_count": 4,
   "id": "c0df76a0-a5d5-4f7d-a238-6f4ef3f96511",
   "metadata": {},
   "outputs": [],
   "source": [
    "from models import ResNet9\n",
    "from simple_ml import train_cifar10, evaluate_cifar10"
   ]
  },
  {
   "cell_type": "code",
   "execution_count": 5,
   "id": "52e42e26-6e5a-455c-aaf5-45ae5adc2cdc",
   "metadata": {},
   "outputs": [],
   "source": [
    "device = ndl.cuda()\n",
    "dtype='float32'"
   ]
  },
  {
   "cell_type": "code",
   "execution_count": 6,
   "id": "17403d68-96de-4364-b593-8f923ad0a45a",
   "metadata": {},
   "outputs": [
    {
     "name": "stderr",
     "output_type": "stream",
     "text": [
      "391it [00:30, 12.87it/s]                         \n"
     ]
    },
    {
     "name": "stdout",
     "output_type": "stream",
     "text": [
      "Epoch: 0, Acc: 0.39018, Loss: [1.7030399]\n"
     ]
    },
    {
     "name": "stderr",
     "output_type": "stream",
     "text": [
      "391it [00:29, 13.25it/s]                         \n"
     ]
    },
    {
     "name": "stdout",
     "output_type": "stream",
     "text": [
      "Epoch: 1, Acc: 0.49336, Loss: [1.4001541]\n"
     ]
    },
    {
     "name": "stderr",
     "output_type": "stream",
     "text": [
      "391it [00:29, 13.25it/s]                         \n"
     ]
    },
    {
     "name": "stdout",
     "output_type": "stream",
     "text": [
      "Epoch: 2, Acc: 0.5425, Loss: [1.2742754]\n"
     ]
    },
    {
     "name": "stderr",
     "output_type": "stream",
     "text": [
      "391it [00:29, 13.41it/s]                         \n"
     ]
    },
    {
     "name": "stdout",
     "output_type": "stream",
     "text": [
      "Epoch: 3, Acc: 0.5764, Loss: [1.1809757]\n"
     ]
    },
    {
     "name": "stderr",
     "output_type": "stream",
     "text": [
      "391it [00:29, 13.48it/s]                         \n"
     ]
    },
    {
     "name": "stdout",
     "output_type": "stream",
     "text": [
      "Epoch: 4, Acc: 0.60572, Loss: [1.1078187]\n"
     ]
    },
    {
     "name": "stderr",
     "output_type": "stream",
     "text": [
      "391it [00:03, 120.56it/s]                         "
     ]
    },
    {
     "name": "stdout",
     "output_type": "stream",
     "text": [
      "Evaluation Acc: 0.60792, Evaluation Loss: [1.0915493]\n"
     ]
    },
    {
     "name": "stderr",
     "output_type": "stream",
     "text": [
      "\n"
     ]
    }
   ],
   "source": [
    "# prepare data\n",
    "dataset = ndl.data.CIFAR10Dataset(base_folder=\"./data/cifar-10-batches-py\",\n",
    "                                                  train=True)\n",
    "dataloader = ndl.data.DataLoader(dataset=dataset,\n",
    "                                 batch_size=128,\n",
    "                                 shuffle=True)\n",
    "# training and evaluation\n",
    "model = ResNet9(device=device,\n",
    "                dtype=dtype)\n",
    "train_cifar10(model=model,\n",
    "              dataloader=dataloader,\n",
    "              n_epochs=5,\n",
    "              optimizer=ndl.optim.Adam,\n",
    "              lr=0.001,\n",
    "              weight_decay=0.001,\n",
    "              loss_fn=nn.SoftmaxLoss(),\n",
    "              device=device)\n",
    "evaluate_cifar10(model, dataloader, device=device)"
   ]
  },
  {
   "cell_type": "code",
   "execution_count": 7,
   "id": "d363ea03-1d06-4420-9201-9a141e8dfbe0",
   "metadata": {},
   "outputs": [],
   "source": [
    "from models import LanguageModel\n",
    "from simple_ml import train_ptb, evaluate_ptb"
   ]
  },
  {
   "cell_type": "code",
   "execution_count": 8,
   "id": "9a92d214-1e34-447e-9655-279e2694e957",
   "metadata": {},
   "outputs": [
    {
     "name": "stderr",
     "output_type": "stream",
     "text": [
      "100%|██████████| 14/14 [00:00<00:00, 25.07it/s]\n",
      "100%|██████████| 14/14 [00:00<00:00, 22.51it/s]\n",
      "100%|██████████| 14/14 [00:00<00:00, 28.21it/s]\n",
      "100%|██████████| 14/14 [00:00<00:00, 26.64it/s]\n",
      "100%|██████████| 14/14 [00:00<00:00, 24.61it/s]\n",
      "100%|██████████| 14/14 [00:00<00:00, 27.30it/s]\n",
      "100%|██████████| 14/14 [00:00<00:00, 23.83it/s]\n",
      "100%|██████████| 14/14 [00:00<00:00, 27.84it/s]\n",
      "100%|██████████| 14/14 [00:00<00:00, 28.57it/s]\n",
      "100%|██████████| 14/14 [00:00<00:00, 35.91it/s]\n"
     ]
    },
    {
     "data": {
      "text/plain": [
       "(1.2878787878787878, array([8.781939], dtype=float32))"
      ]
     },
     "execution_count": 8,
     "metadata": {},
     "output_type": "execute_result"
    }
   ],
   "source": [
    "# prepare data\n",
    "corpus = ndl.data.Corpus(base_dir=\"data/ptb\",\n",
    "                         max_lines=100)\n",
    "train_data = ndl.data.batchify(data=corpus.train,\n",
    "                               batch_size=16,\n",
    "                               device=device,\n",
    "                               dtype=dtype)\n",
    "# training and evaluation\n",
    "model = LanguageModel(embedding_size=30,\n",
    "                      output_size=len(corpus.dictionary),\n",
    "                      hidden_size=10,\n",
    "                      num_layers=2,\n",
    "                      seq_model='rnn',\n",
    "                      device=device,\n",
    "                      dtype=dtype)\n",
    "train_ptb(model=model,\n",
    "          data=train_data,\n",
    "          seq_len=10,\n",
    "          n_epochs=10,\n",
    "          optimizer=ndl.optim.SGD,\n",
    "          lr=4.0,\n",
    "          weight_decay=0.0,\n",
    "          loss_fn=nn.SoftmaxLoss(),\n",
    "          device=device,\n",
    "          dtype=dtype)\n",
    "#evaluate_ptb(model, train_data, seq_len=40, device=device)"
   ]
  },
  {
   "cell_type": "code",
   "execution_count": null,
   "id": "78655f47",
   "metadata": {},
   "outputs": [],
   "source": []
  }
 ],
 "metadata": {
  "kernelspec": {
   "display_name": "needle",
   "language": "python",
   "name": "python3"
  },
  "language_info": {
   "codemirror_mode": {
    "name": "ipython",
    "version": 3
   },
   "file_extension": ".py",
   "mimetype": "text/x-python",
   "name": "python",
   "nbconvert_exporter": "python",
   "pygments_lexer": "ipython3",
   "version": "3.9.20"
  }
 },
 "nbformat": 4,
 "nbformat_minor": 5
}
